{
  "nbformat": 4,
  "nbformat_minor": 0,
  "metadata": {
    "colab": {
      "name": "Pleiadas Dataset Visualization.ipynb",
      "provenance": [],
      "collapsed_sections": [],
      "mount_file_id": "1etzwbee-8suXLcP2pzTkpyxkryy1zPWf",
      "authorship_tag": "ABX9TyMt0mbNND+WvKZiedh1ORbc",
      "include_colab_link": true
    },
    "kernelspec": {
      "name": "python3",
      "display_name": "Python 3"
    },
    "language_info": {
      "name": "python"
    }
  },
  "cells": [
    {
      "cell_type": "markdown",
      "metadata": {
        "id": "view-in-github",
        "colab_type": "text"
      },
      "source": [
        "<a href=\"https://colab.research.google.com/github/ayobamiakomolafe/Visualization-Charts-/blob/main/Pleiadas_Dataset_Visualization.ipynb\" target=\"_parent\"><img src=\"https://colab.research.google.com/assets/colab-badge.svg\" alt=\"Open In Colab\"/></a>"
      ]
    },
    {
      "cell_type": "code",
      "metadata": {
        "id": "MpE13CW368BF"
      },
      "source": [
        "import pandas as pd\n",
        "locations= '/content/drive/MyDrive/pleiades-locations-latest.csv.gz'"
      ],
      "execution_count": null,
      "outputs": []
    },
    {
      "cell_type": "code",
      "metadata": {
        "id": "DbX10MYf7ywz"
      },
      "source": [
        "df_locations=pd.read_csv(locations)"
      ],
      "execution_count": null,
      "outputs": []
    },
    {
      "cell_type": "code",
      "metadata": {
        "id": "yvl9jC5i74LJ"
      },
      "source": [
        "df_locations.head(2)"
      ],
      "execution_count": null,
      "outputs": []
    },
    {
      "cell_type": "code",
      "metadata": {
        "id": "c-rnTUoRCwf6"
      },
      "source": [
        "df_loc=df_locations[['title','id','tags','featureType','description','locationPrecision','timePeriods','reprLat', 'reprLong', 'reprLatLong']]"
      ],
      "execution_count": null,
      "outputs": []
    },
    {
      "cell_type": "code",
      "metadata": {
        "id": "3IF9OCSng7jO"
      },
      "source": [
        "df_cleaned=df_loc.fillna('Unknown')"
      ],
      "execution_count": null,
      "outputs": []
    },
    {
      "cell_type": "code",
      "metadata": {
        "id": "OJ07y8HOhjXa"
      },
      "source": [
        "df_cleaned.head(2)"
      ],
      "execution_count": null,
      "outputs": []
    },
    {
      "cell_type": "markdown",
      "metadata": {
        "id": "_kb1ApZ3ZltK"
      },
      "source": [
        "Visualization of the distribution of LocationPrecision using a Countplot"
      ]
    },
    {
      "cell_type": "code",
      "metadata": {
        "id": "3Bz9N1MRhFdU"
      },
      "source": [
        "df_cleaned['locationPrecision'].replace('Unknown', 'unlocated',inplace=True )"
      ],
      "execution_count": null,
      "outputs": []
    },
    {
      "cell_type": "code",
      "metadata": {
        "id": "kv084veEjBqy"
      },
      "source": [
        "import matplotlib.pyplot as plt\n",
        "import seaborn as sns"
      ],
      "execution_count": null,
      "outputs": []
    },
    {
      "cell_type": "code",
      "metadata": {
        "id": "wNLqnL8rtBNm"
      },
      "source": [
        "from google.colab import files"
      ],
      "execution_count": null,
      "outputs": []
    },
    {
      "cell_type": "code",
      "metadata": {
        "id": "yblIAkbEaLLo",
        "colab": {
          "base_uri": "https://localhost:8080/",
          "height": 279
        },
        "outputId": "8cdbd7fb-1a44-41a6-f819-376a4391b18a"
      },
      "source": [
        "sns.countplot(x ='locationPrecision', data = df_cleaned )\n",
        "plt.savefig(\"countplot.png\")\n",
        "files.download(\"countplot.png\")"
      ],
      "execution_count": null,
      "outputs": [
        {
          "output_type": "display_data",
          "data": {
            "application/javascript": [
              "\n",
              "    async function download(id, filename, size) {\n",
              "      if (!google.colab.kernel.accessAllowed) {\n",
              "        return;\n",
              "      }\n",
              "      const div = document.createElement('div');\n",
              "      const label = document.createElement('label');\n",
              "      label.textContent = `Downloading \"${filename}\": `;\n",
              "      div.appendChild(label);\n",
              "      const progress = document.createElement('progress');\n",
              "      progress.max = size;\n",
              "      div.appendChild(progress);\n",
              "      document.body.appendChild(div);\n",
              "\n",
              "      const buffers = [];\n",
              "      let downloaded = 0;\n",
              "\n",
              "      const channel = await google.colab.kernel.comms.open(id);\n",
              "      // Send a message to notify the kernel that we're ready.\n",
              "      channel.send({})\n",
              "\n",
              "      for await (const message of channel.messages) {\n",
              "        // Send a message to notify the kernel that we're ready.\n",
              "        channel.send({})\n",
              "        if (message.buffers) {\n",
              "          for (const buffer of message.buffers) {\n",
              "            buffers.push(buffer);\n",
              "            downloaded += buffer.byteLength;\n",
              "            progress.value = downloaded;\n",
              "          }\n",
              "        }\n",
              "      }\n",
              "      const blob = new Blob(buffers, {type: 'application/binary'});\n",
              "      const a = document.createElement('a');\n",
              "      a.href = window.URL.createObjectURL(blob);\n",
              "      a.download = filename;\n",
              "      div.appendChild(a);\n",
              "      a.click();\n",
              "      div.remove();\n",
              "    }\n",
              "  "
            ],
            "text/plain": [
              "<IPython.core.display.Javascript object>"
            ]
          },
          "metadata": {
            "tags": []
          }
        },
        {
          "output_type": "display_data",
          "data": {
            "application/javascript": [
              "download(\"download_dc4d3b2a-b88b-4bbc-bc96-f2880ad62387\", \"countplot.png\", 8697)"
            ],
            "text/plain": [
              "<IPython.core.display.Javascript object>"
            ]
          },
          "metadata": {
            "tags": []
          }
        },
        {
          "output_type": "display_data",
          "data": {
            "image/png": "[encoded data removed]",
            "text/plain": [
              "<Figure size 432x288 with 1 Axes>"
            ]
          },
          "metadata": {
            "tags": [],
            "needs_background": "light"
          }
        }
      ]
    },
    {
      "cell_type": "markdown",
      "metadata": {
        "id": "crJl4peKbWo-"
      },
      "source": [
        "Visualization of the distribution of different timeperiods using wafflecharts"
      ]
    },
    {
      "cell_type": "code",
      "metadata": {
        "id": "u2ANM9UsuUBf"
      },
      "source": [
        "time_data=df_locations['timePeriods'].fillna(';')"
      ],
      "execution_count": null,
      "outputs": []
    },
    {
      "cell_type": "code",
      "metadata": {
        "id": "eUGzdXsddBGz"
      },
      "source": [
        "time_dict={'A':0, 'C':0, 'H':0, 'R':0,'L':0 }"
      ],
      "execution_count": null,
      "outputs": []
    },
    {
      "cell_type": "code",
      "metadata": {
        "id": "TNeMkNuod3_X"
      },
      "source": [
        "for i in time_data:\n",
        "    if (len(i)==1) and (i in time_dict):\n",
        "        time_dict[i]=time_dict[i]+1\n",
        "    elif len(i)> 1:\n",
        "        y=list(i)\n",
        "        for r in y:\n",
        "            if r in time_dict:\n",
        "                time_dict[r]=time_dict[r]+1"
      ],
      "execution_count": null,
      "outputs": []
    },
    {
      "cell_type": "code",
      "metadata": {
        "id": "ygIKhXWvpFGr"
      },
      "source": [
        "df1=pd.DataFrame(time_dict.keys())\n",
        "df2=pd.DataFrame(time_dict.values())\n",
        "df1.rename(columns={0:'timeperiods'}, inplace=True)\n",
        "df3=pd.concat([df1,df2], axis=1)\n",
        "df3.rename(columns={0:'counts'}, inplace=True)"
      ],
      "execution_count": null,
      "outputs": []
    },
    {
      "cell_type": "code",
      "metadata": {
        "id": "xEbc_eoR7B4I"
      },
      "source": [
        "'Convert df3 to percentage'\n",
        "df3['perc']=(df3['counts']/df3['counts'].sum()) * 100"
      ],
      "execution_count": null,
      "outputs": []
    },
    {
      "cell_type": "code",
      "metadata": {
        "id": "EIPBvIAW-pNd"
      },
      "source": [
        "df3"
      ],
      "execution_count": null,
      "outputs": []
    },
    {
      "cell_type": "code",
      "metadata": {
        "id": "UELJD1WqzAbT"
      },
      "source": [
        "!pip install pywaffle"
      ],
      "execution_count": null,
      "outputs": []
    },
    {
      "cell_type": "code",
      "metadata": {
        "id": "gXuY6YXIxyyX"
      },
      "source": [
        "import pandas as pd\n",
        "import matplotlib.pyplot as plt\n",
        "from pywaffle import Waffle\n",
        "  \n",
        "\n",
        "  \n",
        "# To plot the waffle Chart\n",
        "fig = plt.figure(\n",
        "    FigureClass = Waffle,\n",
        "    rows = 5,\n",
        "    title={'label': 'Distribution of Five Main Time-periods', 'loc': 'left'},\n",
        "    values = df3.perc,\n",
        "    labels = ['{} {:.1f}%'.format(k, v) for k, v in zip(df3.timeperiods,df3.perc)], \n",
        "    legend={'loc': 'lower left', 'bbox_to_anchor': (0, -0.4), 'ncol': len(df3.perc),'fontsize': 12, 'framealpha': 0},\n",
        "    figsize=(13,8)\n",
        ")\n",
        "plt.savefig(\"waffleplot2.png\")\n",
        "files.download(\"waffleplot2.png\")"
      ],
      "execution_count": null,
      "outputs": []
    },
    {
      "cell_type": "markdown",
      "metadata": {
        "id": "Y4eY5rnkARPN"
      },
      "source": [
        "Visualization of distribution for top 10 feature types"
      ]
    },
    {
      "cell_type": "code",
      "metadata": {
        "id": "3uYMEcGDATt2"
      },
      "source": [
        "df_featureType=df_loc['featureType'].value_counts().to_frame()"
      ],
      "execution_count": null,
      "outputs": []
    },
    {
      "cell_type": "code",
      "metadata": {
        "id": "FrKNRAZkDKld"
      },
      "source": [
        "df_featureType=df_featureType.reset_index()"
      ],
      "execution_count": null,
      "outputs": []
    },
    {
      "cell_type": "code",
      "metadata": {
        "id": "598APmzmDVK7"
      },
      "source": [
        "df_featureType=df_featureType.iloc[:11]"
      ],
      "execution_count": null,
      "outputs": []
    },
    {
      "cell_type": "code",
      "metadata": {
        "id": "7l9qLkK1I7ef"
      },
      "source": [
        "df_featureType.rename(columns={'index':'Name'}, inplace=True)"
      ],
      "execution_count": null,
      "outputs": []
    },
    {
      "cell_type": "code",
      "metadata": {
        "colab": {
          "base_uri": "https://localhost:8080/",
          "height": 528
        },
        "id": "CwBaBqh6EgLD",
        "outputId": "b04c49c3-d52c-4ac5-e861-2cc8346310e0"
      },
      "source": [
        "fig, ax = plt.subplots(figsize=(15,7), dpi= 80)\n",
        "ax.vlines(x=df_featureType.Name, ymin=0, ymax=df_featureType.featureType, color='firebrick', alpha=0.7, linewidth=2)\n",
        "ax.scatter(x=df_featureType.Name, y=df_featureType.featureType, s=75, color='firebrick', alpha=0.7)\n",
        "ax.set_title('Distribution of the Top 10 featuretypes', fontdict={'size':22})\n",
        "ax.set_ylabel('Count')\n",
        "ax.set_xticks(df_featureType.index)\n",
        "ax.set_xticklabels(df_featureType.Name.str.upper(), rotation=10, fontdict={'horizontalalignment': 'right', 'size':12})\n",
        "ax.set_ylim(0, 40000)\n",
        "for row in df_featureType.itertuples():\n",
        "    ax.text(row.Index, row.featureType +.5, s=round(row.featureType, 2), horizontalalignment= 'center', verticalalignment='bottom', fontsize=14)\n",
        "plt.savefig(\"lollipop.png\")\n",
        "files.download(\"lollipop.png\")"
      ],
      "execution_count": null,
      "outputs": [
        {
          "output_type": "display_data",
          "data": {
            "application/javascript": [
              "\n",
              "    async function download(id, filename, size) {\n",
              "      if (!google.colab.kernel.accessAllowed) {\n",
              "        return;\n",
              "      }\n",
              "      const div = document.createElement('div');\n",
              "      const label = document.createElement('label');\n",
              "      label.textContent = `Downloading \"${filename}\": `;\n",
              "      div.appendChild(label);\n",
              "      const progress = document.createElement('progress');\n",
              "      progress.max = size;\n",
              "      div.appendChild(progress);\n",
              "      document.body.appendChild(div);\n",
              "\n",
              "      const buffers = [];\n",
              "      let downloaded = 0;\n",
              "\n",
              "      const channel = await google.colab.kernel.comms.open(id);\n",
              "      // Send a message to notify the kernel that we're ready.\n",
              "      channel.send({})\n",
              "\n",
              "      for await (const message of channel.messages) {\n",
              "        // Send a message to notify the kernel that we're ready.\n",
              "        channel.send({})\n",
              "        if (message.buffers) {\n",
              "          for (const buffer of message.buffers) {\n",
              "            buffers.push(buffer);\n",
              "            downloaded += buffer.byteLength;\n",
              "            progress.value = downloaded;\n",
              "          }\n",
              "        }\n",
              "      }\n",
              "      const blob = new Blob(buffers, {type: 'application/binary'});\n",
              "      const a = document.createElement('a');\n",
              "      a.href = window.URL.createObjectURL(blob);\n",
              "      a.download = filename;\n",
              "      div.appendChild(a);\n",
              "      a.click();\n",
              "      div.remove();\n",
              "    }\n",
              "  "
            ],
            "text/plain": [
              "<IPython.core.display.Javascript object>"
            ]
          },
          "metadata": {
            "tags": []
          }
        },
        {
          "output_type": "display_data",
          "data": {
            "application/javascript": [
              "download(\"download_937b251d-9a6f-42db-8bba-87da85a6f384\", \"lollipop.png\", 46021)"
            ],
            "text/plain": [
              "<IPython.core.display.Javascript object>"
            ]
          },
          "metadata": {
            "tags": []
          }
        },
        {
          "output_type": "display_data",
          "data": {
            "image/png": "[encoded data removed]",
            "text/plain": [
              "<Figure size 1200x560 with 1 Axes>"
            ]
          },
          "metadata": {
            "tags": [],
            "needs_background": "light"
          }
        }
      ]
    },
    {
      "cell_type": "markdown",
      "metadata": {
        "id": "Z1cihVP0O1x8"
      },
      "source": [
        "Map visualization"
      ]
    },
    {
      "cell_type": "code",
      "metadata": {
        "id": "d9yXnxrjOpUz"
      },
      "source": [
        "! pip install folium"
      ],
      "execution_count": null,
      "outputs": []
    },
    {
      "cell_type": "code",
      "metadata": {
        "id": "p5o2war4jf0F"
      },
      "source": [
        "df_map=df_loc[['reprLatLong','tags', 'id', 'reprLat','reprLong']]"
      ],
      "execution_count": null,
      "outputs": []
    },
    {
      "cell_type": "code",
      "metadata": {
        "id": "QpezXxYXkbbs"
      },
      "source": [
        "df_map.fillna('Unknown', inplace=True)\n",
        "df_map=df_map[df_map['reprLatLong']!='Unknown']"
      ],
      "execution_count": null,
      "outputs": []
    },
    {
      "cell_type": "code",
      "metadata": {
        "colab": {
          "base_uri": "https://localhost:8080/"
        },
        "id": "Rxp5wCrOlN0U",
        "outputId": "5d0fbfb3-8c9d-4b2c-d39e-e423f2b876d5"
      },
      "source": [
        "df_view=df_map[df_map['tags']=='extant remains']\n",
        "df_view.shape"
      ],
      "execution_count": null,
      "outputs": [
        {
          "output_type": "execute_result",
          "data": {
            "text/plain": [
              "(21, 5)"
            ]
          },
          "metadata": {
            "tags": []
          },
          "execution_count": 280
        }
      ]
    },
    {
      "cell_type": "code",
      "metadata": {
        "id": "VpbPd0qtmZx9"
      },
      "source": [
        "df_view.head(21)"
      ],
      "execution_count": null,
      "outputs": []
    },
    {
      "cell_type": "code",
      "metadata": {
        "colab": {
          "base_uri": "https://localhost:8080/"
        },
        "id": "B9icmtvhmP3D",
        "outputId": "d11908c3-62b0-41f7-f73f-103ddcf4a6fd"
      },
      "source": [
        "m = folium.Map(location=[37.974038,23.7261021], zoom_start=13)\n",
        "tooltip = \"Click me!\"\n",
        "\n",
        "folium.Marker(\n",
        "    [37.974038,23.7261021], popup=\"<i>osm-location-of-the-roman-agora</i>\", tooltip=tooltip\n",
        ").add_to(m)\n",
        "\n"
      ],
      "execution_count": null,
      "outputs": [
        {
          "output_type": "execute_result",
          "data": {
            "text/plain": [
              "<folium.map.Marker at 0x7f962a74acd0>"
            ]
          },
          "metadata": {
            "tags": []
          },
          "execution_count": 271
        }
      ]
    },
    {
      "cell_type": "code",
      "metadata": {
        "id": "7H4yA04xuTz5"
      },
      "source": [
        "m"
      ],
      "execution_count": null,
      "outputs": []
    },
    {
      "cell_type": "markdown",
      "metadata": {
        "id": "4UGGByTXx9Bv"
      },
      "source": [
        "A dendrogram of the extant sites based on longitude and latititude"
      ]
    },
    {
      "cell_type": "code",
      "metadata": {
        "id": "VBRHnPrVx7op"
      },
      "source": [
        "from scipy.cluster.hierarchy import dendrogram, linkage"
      ],
      "execution_count": null,
      "outputs": []
    },
    {
      "cell_type": "code",
      "metadata": {
        "id": "VWa0A5M1xfTl"
      },
      "source": [
        "df_clust=df_view[['reprLat', 'reprLong']]"
      ],
      "execution_count": null,
      "outputs": []
    },
    {
      "cell_type": "code",
      "metadata": {
        "id": "dq40D7on3IU1"
      },
      "source": [
        "df_view.id"
      ],
      "execution_count": null,
      "outputs": []
    },
    {
      "cell_type": "code",
      "metadata": {
        "id": "6IgTMNdczWxI"
      },
      "source": [
        "Z = linkage(df_clust, 'ward')"
      ],
      "execution_count": null,
      "outputs": []
    },
    {
      "cell_type": "code",
      "metadata": {
        "id": "ALFVmSOy2h8B"
      },
      "source": [
        "dendrogram(Z)\n",
        "plt.savefig(\"dend.png\")\n",
        "files.download(\"dend.png\")"
      ],
      "execution_count": null,
      "outputs": []
    }
  ]
}